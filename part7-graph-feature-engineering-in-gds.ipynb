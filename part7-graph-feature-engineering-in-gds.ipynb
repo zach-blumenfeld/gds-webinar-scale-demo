{
 "cells": [
  {
   "cell_type": "markdown",
   "id": "e4f33655",
   "metadata": {},
   "source": [
    "# Part 7: Feature Engineering in Neo4j and GDS\n",
    "\n",
    "This notebook covers:\n",
    "\n",
    "1. Native Graph Projection with Properties\n",
    "2. Generating FastRP Features\n",
    "3. Subgraph Projection and Data Export"
   ]
  },
  {
   "cell_type": "markdown",
   "id": "d171ba65",
   "metadata": {},
   "source": [
    "## Connection Setup and Helper Functions"
   ]
  },
  {
   "cell_type": "code",
   "execution_count": 1,
   "id": "ee1ddc4f",
   "metadata": {},
   "outputs": [],
   "source": [
    "from neo4j import GraphDatabase\n",
    "HOST = 'neo4j://localhost:7687'\n",
    "USERNAME = 'neo4j'\n",
    "DATABASE = 'ogblsc'\n",
    "PASSWORD = 'neo'\n",
    "\n",
    "def run(driver, query, params=None):\n",
    "    with driver.session(database=DATABASE) as session:\n",
    "        if params is not None:\n",
    "            return [r for r in session.run(query, params)]\n",
    "        else:\n",
    "            return [r for r in session.run(query)]\n",
    "\n",
    "def clear_graph(driver, graph_name):\n",
    "    if run(driver, f\"CALL gds.graph.exists('{graph_name}') YIELD exists RETURN exists\")[0].get(\"exists\"):\n",
    "        run(driver, f\"CALL gds.graph.drop('{graph_name}')\")\n",
    "\n",
    "def clear_all_graphs(driver):\n",
    "    graphs = run(driver, 'CALL gds.graph.list() YIELD graphName RETURN collect(graphName) as graphs')[0].get('graphs')\n",
    "    for g in graphs:\n",
    "        run(driver, f\"CALL gds.graph.drop('{g}')\")"
   ]
  },
  {
   "cell_type": "code",
   "execution_count": 2,
   "id": "294ddcfe",
   "metadata": {},
   "outputs": [],
   "source": [
    "driver = GraphDatabase.driver(HOST, auth=(USERNAME, PASSWORD))"
   ]
  },
  {
   "cell_type": "markdown",
   "id": "8b1c534b",
   "metadata": {},
   "source": [
    "## Native Graph Projection with Properties\n",
    "\n",
    "We will project just the Paper nodes and CITES relationships for purposes of this demo."
   ]
  },
  {
   "cell_type": "code",
   "execution_count": 3,
   "id": "df64785d",
   "metadata": {},
   "outputs": [
    {
     "data": {
      "text/plain": [
       "[<Record nodeCount=121751666 relationshipCount=2595497852 createMillis=386135>]"
      ]
     },
     "execution_count": 3,
     "metadata": {},
     "output_type": "execute_result"
    }
   ],
   "source": [
    "run(driver, '''\n",
    "    CALL gds.graph.create('proj-features',\n",
    "        {Paper:{properties: ['subject', 'encoding']}},\n",
    "        {CITES:{orientation:'UNDIRECTED'}},\n",
    "        {readConcurrency: 60}\n",
    "    ) YIELD nodeCount, relationshipCount, createMillis\n",
    "''')"
   ]
  },
  {
   "cell_type": "markdown",
   "id": "08145ec5",
   "metadata": {},
   "source": [
    "## Generating FastRP Features\n",
    "\n",
    "Fast Random Projection, or FastRP for short, is a node embedding algorithm. Node embedding algorithms compute low-dimensional vector representations of nodes in a graph. These vectors, also called embeddings, can be used as features for machine learning models among other tasks such as visualization and EDA.\n",
    "\n",
    "FastRP leverages the concept of sparse projections to significantly scale the computation of embeddings on larger graphs.  More information can be found in [our documentation](https://neo4j.com/docs/graph-data-science/current/algorithms/fastrp/).\n",
    "\n",
    "In our example below we will choose to use a `propetyRatio`of 50% which basically initializes 50% of the embedding vectors with a linear combination of the RoBERTa components as weights. In layman's terms, we are basically using a combination of both the graph structure and the NLP encodings to generate (hopefully predictive) node features. "
   ]
  },
  {
   "cell_type": "code",
   "execution_count": 4,
   "id": "8b11e8a4",
   "metadata": {},
   "outputs": [
    {
     "data": {
      "text/plain": [
       "[<Record nodePropertiesWritten=121751666 createMillis=0 computeMillis=430806 mutateMillis=0>]"
      ]
     },
     "execution_count": 4,
     "metadata": {},
     "output_type": "execute_result"
    }
   ],
   "source": [
    "run(driver, '''\n",
    "    CALL gds.fastRP.mutate('proj-features',\n",
    "        {\n",
    "          embeddingDimension: 256,\n",
    "          randomSeed: 7474,\n",
    "          propertyRatio: 0.5,\n",
    "          featureProperties: ['encoding'],\n",
    "          mutateProperty: 'embedding',\n",
    "          concurrency: 60\n",
    "        }\n",
    "    ) YIELD nodePropertiesWritten, createMillis, computeMillis, mutateMillis\n",
    "''')"
   ]
  },
  {
   "cell_type": "markdown",
   "id": "a38c0f19",
   "metadata": {},
   "source": [
    "## Subgraph Projection and Data Export\n",
    "\n",
    "To test predicting subject labels with the new (FastRP) graph features, we only need to export the fraction of papers with known labels. We can use a subgraph projection to filter down to these papers. We can then export the subgraph to csv."
   ]
  },
  {
   "cell_type": "code",
   "execution_count": 5,
   "id": "2b1e43ea",
   "metadata": {},
   "outputs": [
    {
     "data": {
      "text/plain": [
       "[<Record nodeCount=1251341 createMillis=11923>]"
      ]
     },
     "execution_count": 5,
     "metadata": {},
     "output_type": "execute_result"
    }
   ],
   "source": [
    "# subgraph projection\n",
    "run(driver, '''\n",
    "    CALL gds.beta.graph.create.subgraph(\n",
    "        'proj-features-labeled',\n",
    "        'proj-features',\n",
    "        'n.subject > -1',\n",
    "        '*',\n",
    "        {concurrency: 60}\n",
    "    ) YIELD nodeCount, createMillis\n",
    "''')"
   ]
  },
  {
   "cell_type": "code",
   "execution_count": 7,
   "id": "684343be",
   "metadata": {},
   "outputs": [
    {
     "data": {
      "text/plain": [
       "[<Record writeMillis=41485>]"
      ]
     },
     "execution_count": 7,
     "metadata": {},
     "output_type": "execute_result"
    }
   ],
   "source": [
    "# csv export\n",
    "run(driver, '''\n",
    "    CALL gds.beta.graph.export.csv('proj-features-labeled', {\n",
    "      exportName: 'proj-features-labeled',\n",
    "      additionalNodeProperties: ['ogbIndex', 'split_segment', 'subject_status', 'year'],\n",
    "      writeConcurrency: 16\n",
    "    }) YIELD writeMillis\n",
    "''')"
   ]
  },
  {
   "cell_type": "code",
   "execution_count": null,
   "id": "f870083c",
   "metadata": {},
   "outputs": [],
   "source": []
  }
 ],
 "metadata": {
  "kernelspec": {
   "display_name": "Python 3 (ipykernel)",
   "language": "python",
   "name": "python3"
  },
  "language_info": {
   "codemirror_mode": {
    "name": "ipython",
    "version": 3
   },
   "file_extension": ".py",
   "mimetype": "text/x-python",
   "name": "python",
   "nbconvert_exporter": "python",
   "pygments_lexer": "ipython3",
   "version": "3.9.7"
  }
 },
 "nbformat": 4,
 "nbformat_minor": 5
}
