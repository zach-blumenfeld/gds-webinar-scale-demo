{
 "cells": [
  {
   "cell_type": "markdown",
   "id": "750e7f38",
   "metadata": {},
   "source": [
    "# Part 2: \"Flat\" Model  - Logistic Regression with RoBERTa Encodings and PCA"
   ]
  },
  {
   "cell_type": "code",
   "execution_count": 1,
   "id": "6664d358",
   "metadata": {},
   "outputs": [],
   "source": [
    "import pandas as pd\n",
    "from sklearn.linear_model import LogisticRegression"
   ]
  },
  {
   "cell_type": "code",
   "execution_count": 2,
   "id": "70cbb3fa",
   "metadata": {},
   "outputs": [],
   "source": [
    "ROOT_DATA_DIR = \"/data\""
   ]
  },
  {
   "cell_type": "code",
   "execution_count": 3,
   "id": "6ea8f478",
   "metadata": {},
   "outputs": [
    {
     "data": {
      "text/html": [
       "<div>\n",
       "<style scoped>\n",
       "    .dataframe tbody tr th:only-of-type {\n",
       "        vertical-align: middle;\n",
       "    }\n",
       "\n",
       "    .dataframe tbody tr th {\n",
       "        vertical-align: top;\n",
       "    }\n",
       "\n",
       "    .dataframe thead th {\n",
       "        text-align: right;\n",
       "    }\n",
       "</style>\n",
       "<table border=\"1\" class=\"dataframe\">\n",
       "  <thead>\n",
       "    <tr style=\"text-align: right;\">\n",
       "      <th></th>\n",
       "      <th>paper_encoding_0</th>\n",
       "      <th>paper_encoding_1</th>\n",
       "      <th>paper_encoding_2</th>\n",
       "      <th>paper_encoding_3</th>\n",
       "      <th>paper_encoding_4</th>\n",
       "      <th>paper_encoding_5</th>\n",
       "      <th>paper_encoding_6</th>\n",
       "      <th>paper_encoding_7</th>\n",
       "      <th>paper_encoding_8</th>\n",
       "      <th>paper_encoding_9</th>\n",
       "      <th>...</th>\n",
       "      <th>paper_encoding_761</th>\n",
       "      <th>paper_encoding_762</th>\n",
       "      <th>paper_encoding_763</th>\n",
       "      <th>paper_encoding_764</th>\n",
       "      <th>paper_encoding_765</th>\n",
       "      <th>paper_encoding_766</th>\n",
       "      <th>paper_encoding_767</th>\n",
       "      <th>split_segment</th>\n",
       "      <th>paper_subject</th>\n",
       "      <th>paper_year</th>\n",
       "    </tr>\n",
       "    <tr>\n",
       "      <th>index</th>\n",
       "      <th></th>\n",
       "      <th></th>\n",
       "      <th></th>\n",
       "      <th></th>\n",
       "      <th></th>\n",
       "      <th></th>\n",
       "      <th></th>\n",
       "      <th></th>\n",
       "      <th></th>\n",
       "      <th></th>\n",
       "      <th></th>\n",
       "      <th></th>\n",
       "      <th></th>\n",
       "      <th></th>\n",
       "      <th></th>\n",
       "      <th></th>\n",
       "      <th></th>\n",
       "      <th></th>\n",
       "      <th></th>\n",
       "      <th></th>\n",
       "      <th></th>\n",
       "    </tr>\n",
       "  </thead>\n",
       "  <tbody>\n",
       "    <tr>\n",
       "      <th>0</th>\n",
       "      <td>0.438477</td>\n",
       "      <td>0.211060</td>\n",
       "      <td>0.393311</td>\n",
       "      <td>0.055969</td>\n",
       "      <td>-0.078003</td>\n",
       "      <td>-0.017807</td>\n",
       "      <td>0.553223</td>\n",
       "      <td>-0.319824</td>\n",
       "      <td>0.394043</td>\n",
       "      <td>0.502930</td>\n",
       "      <td>...</td>\n",
       "      <td>-0.052490</td>\n",
       "      <td>1.092773</td>\n",
       "      <td>0.157227</td>\n",
       "      <td>-1.467773</td>\n",
       "      <td>-1.590820</td>\n",
       "      <td>0.328613</td>\n",
       "      <td>0.332275</td>\n",
       "      <td>TRAIN</td>\n",
       "      <td>17.0</td>\n",
       "      <td>2014</td>\n",
       "    </tr>\n",
       "    <tr>\n",
       "      <th>1</th>\n",
       "      <td>0.468994</td>\n",
       "      <td>-0.202637</td>\n",
       "      <td>0.023331</td>\n",
       "      <td>0.535645</td>\n",
       "      <td>0.496582</td>\n",
       "      <td>0.024368</td>\n",
       "      <td>0.239990</td>\n",
       "      <td>0.539551</td>\n",
       "      <td>0.460449</td>\n",
       "      <td>0.078491</td>\n",
       "      <td>...</td>\n",
       "      <td>-0.132812</td>\n",
       "      <td>1.125977</td>\n",
       "      <td>0.368164</td>\n",
       "      <td>-0.191406</td>\n",
       "      <td>-0.378418</td>\n",
       "      <td>0.031616</td>\n",
       "      <td>-0.311523</td>\n",
       "      <td>TRAIN</td>\n",
       "      <td>29.0</td>\n",
       "      <td>2014</td>\n",
       "    </tr>\n",
       "    <tr>\n",
       "      <th>2</th>\n",
       "      <td>0.047485</td>\n",
       "      <td>-0.398682</td>\n",
       "      <td>-0.420410</td>\n",
       "      <td>0.882324</td>\n",
       "      <td>-0.114685</td>\n",
       "      <td>0.607910</td>\n",
       "      <td>0.151001</td>\n",
       "      <td>0.124695</td>\n",
       "      <td>-0.012108</td>\n",
       "      <td>-0.005211</td>\n",
       "      <td>...</td>\n",
       "      <td>-0.130127</td>\n",
       "      <td>-0.121155</td>\n",
       "      <td>0.790527</td>\n",
       "      <td>-0.147827</td>\n",
       "      <td>-0.451904</td>\n",
       "      <td>0.516602</td>\n",
       "      <td>-0.135986</td>\n",
       "      <td>TRAIN</td>\n",
       "      <td>38.0</td>\n",
       "      <td>2015</td>\n",
       "    </tr>\n",
       "    <tr>\n",
       "      <th>3</th>\n",
       "      <td>-0.395508</td>\n",
       "      <td>-0.464355</td>\n",
       "      <td>-0.336670</td>\n",
       "      <td>-0.156616</td>\n",
       "      <td>-0.396240</td>\n",
       "      <td>-0.449951</td>\n",
       "      <td>-0.033630</td>\n",
       "      <td>0.393066</td>\n",
       "      <td>0.552246</td>\n",
       "      <td>-0.076782</td>\n",
       "      <td>...</td>\n",
       "      <td>0.149780</td>\n",
       "      <td>1.133789</td>\n",
       "      <td>0.386230</td>\n",
       "      <td>0.066162</td>\n",
       "      <td>0.760742</td>\n",
       "      <td>0.355469</td>\n",
       "      <td>-0.658691</td>\n",
       "      <td>TRAIN</td>\n",
       "      <td>5.0</td>\n",
       "      <td>2005</td>\n",
       "    </tr>\n",
       "    <tr>\n",
       "      <th>4</th>\n",
       "      <td>0.103210</td>\n",
       "      <td>-0.125122</td>\n",
       "      <td>0.039490</td>\n",
       "      <td>0.651855</td>\n",
       "      <td>0.279053</td>\n",
       "      <td>0.020828</td>\n",
       "      <td>0.325439</td>\n",
       "      <td>-0.004528</td>\n",
       "      <td>0.264404</td>\n",
       "      <td>0.178101</td>\n",
       "      <td>...</td>\n",
       "      <td>0.056824</td>\n",
       "      <td>0.499023</td>\n",
       "      <td>0.038788</td>\n",
       "      <td>0.906250</td>\n",
       "      <td>-0.623047</td>\n",
       "      <td>-0.119080</td>\n",
       "      <td>0.394043</td>\n",
       "      <td>TRAIN</td>\n",
       "      <td>1.0</td>\n",
       "      <td>2013</td>\n",
       "    </tr>\n",
       "    <tr>\n",
       "      <th>...</th>\n",
       "      <td>...</td>\n",
       "      <td>...</td>\n",
       "      <td>...</td>\n",
       "      <td>...</td>\n",
       "      <td>...</td>\n",
       "      <td>...</td>\n",
       "      <td>...</td>\n",
       "      <td>...</td>\n",
       "      <td>...</td>\n",
       "      <td>...</td>\n",
       "      <td>...</td>\n",
       "      <td>...</td>\n",
       "      <td>...</td>\n",
       "      <td>...</td>\n",
       "      <td>...</td>\n",
       "      <td>...</td>\n",
       "      <td>...</td>\n",
       "      <td>...</td>\n",
       "      <td>...</td>\n",
       "      <td>...</td>\n",
       "      <td>...</td>\n",
       "    </tr>\n",
       "    <tr>\n",
       "      <th>138944</th>\n",
       "      <td>-0.254883</td>\n",
       "      <td>-0.069885</td>\n",
       "      <td>-0.821289</td>\n",
       "      <td>1.201172</td>\n",
       "      <td>-0.639160</td>\n",
       "      <td>-0.368164</td>\n",
       "      <td>0.802246</td>\n",
       "      <td>-0.076355</td>\n",
       "      <td>0.324219</td>\n",
       "      <td>0.030365</td>\n",
       "      <td>...</td>\n",
       "      <td>0.553223</td>\n",
       "      <td>0.697754</td>\n",
       "      <td>0.369629</td>\n",
       "      <td>1.799805</td>\n",
       "      <td>-0.534180</td>\n",
       "      <td>-0.112244</td>\n",
       "      <td>-0.230713</td>\n",
       "      <td>VALIDATE</td>\n",
       "      <td>51.0</td>\n",
       "      <td>2019</td>\n",
       "    </tr>\n",
       "    <tr>\n",
       "      <th>138945</th>\n",
       "      <td>0.667480</td>\n",
       "      <td>-0.046448</td>\n",
       "      <td>0.194214</td>\n",
       "      <td>0.251953</td>\n",
       "      <td>0.003784</td>\n",
       "      <td>0.495361</td>\n",
       "      <td>0.756348</td>\n",
       "      <td>-0.065125</td>\n",
       "      <td>-0.071777</td>\n",
       "      <td>0.123657</td>\n",
       "      <td>...</td>\n",
       "      <td>-0.436279</td>\n",
       "      <td>1.187500</td>\n",
       "      <td>0.360596</td>\n",
       "      <td>-1.391602</td>\n",
       "      <td>-0.752930</td>\n",
       "      <td>-0.068970</td>\n",
       "      <td>0.195923</td>\n",
       "      <td>VALIDATE</td>\n",
       "      <td>12.0</td>\n",
       "      <td>2019</td>\n",
       "    </tr>\n",
       "    <tr>\n",
       "      <th>138946</th>\n",
       "      <td>0.660645</td>\n",
       "      <td>-0.515137</td>\n",
       "      <td>-0.776367</td>\n",
       "      <td>0.222412</td>\n",
       "      <td>-1.073242</td>\n",
       "      <td>0.049652</td>\n",
       "      <td>0.335205</td>\n",
       "      <td>0.281982</td>\n",
       "      <td>1.385742</td>\n",
       "      <td>0.360840</td>\n",
       "      <td>...</td>\n",
       "      <td>-0.331787</td>\n",
       "      <td>-0.043549</td>\n",
       "      <td>0.609863</td>\n",
       "      <td>0.025223</td>\n",
       "      <td>0.232422</td>\n",
       "      <td>0.211304</td>\n",
       "      <td>0.060333</td>\n",
       "      <td>VALIDATE</td>\n",
       "      <td>18.0</td>\n",
       "      <td>2019</td>\n",
       "    </tr>\n",
       "    <tr>\n",
       "      <th>138947</th>\n",
       "      <td>0.427246</td>\n",
       "      <td>-0.276855</td>\n",
       "      <td>-0.203857</td>\n",
       "      <td>0.391113</td>\n",
       "      <td>-0.368896</td>\n",
       "      <td>-0.091003</td>\n",
       "      <td>1.030273</td>\n",
       "      <td>0.415039</td>\n",
       "      <td>0.506836</td>\n",
       "      <td>0.121399</td>\n",
       "      <td>...</td>\n",
       "      <td>-0.198730</td>\n",
       "      <td>1.151367</td>\n",
       "      <td>0.054382</td>\n",
       "      <td>-0.266113</td>\n",
       "      <td>-0.600098</td>\n",
       "      <td>0.258057</td>\n",
       "      <td>0.411377</td>\n",
       "      <td>VALIDATE</td>\n",
       "      <td>72.0</td>\n",
       "      <td>2019</td>\n",
       "    </tr>\n",
       "    <tr>\n",
       "      <th>138948</th>\n",
       "      <td>0.123779</td>\n",
       "      <td>-0.914551</td>\n",
       "      <td>-0.064758</td>\n",
       "      <td>0.073181</td>\n",
       "      <td>-0.243286</td>\n",
       "      <td>-0.610840</td>\n",
       "      <td>0.522461</td>\n",
       "      <td>-0.022171</td>\n",
       "      <td>-0.621094</td>\n",
       "      <td>0.040161</td>\n",
       "      <td>...</td>\n",
       "      <td>-0.159180</td>\n",
       "      <td>0.350342</td>\n",
       "      <td>-0.007122</td>\n",
       "      <td>-0.407715</td>\n",
       "      <td>-0.976562</td>\n",
       "      <td>0.545410</td>\n",
       "      <td>0.017975</td>\n",
       "      <td>VALIDATE</td>\n",
       "      <td>142.0</td>\n",
       "      <td>2019</td>\n",
       "    </tr>\n",
       "  </tbody>\n",
       "</table>\n",
       "<p>1251341 rows × 771 columns</p>\n",
       "</div>"
      ],
      "text/plain": [
       "        paper_encoding_0  paper_encoding_1  paper_encoding_2  \\\n",
       "index                                                          \n",
       "0               0.438477          0.211060          0.393311   \n",
       "1               0.468994         -0.202637          0.023331   \n",
       "2               0.047485         -0.398682         -0.420410   \n",
       "3              -0.395508         -0.464355         -0.336670   \n",
       "4               0.103210         -0.125122          0.039490   \n",
       "...                  ...               ...               ...   \n",
       "138944         -0.254883         -0.069885         -0.821289   \n",
       "138945          0.667480         -0.046448          0.194214   \n",
       "138946          0.660645         -0.515137         -0.776367   \n",
       "138947          0.427246         -0.276855         -0.203857   \n",
       "138948          0.123779         -0.914551         -0.064758   \n",
       "\n",
       "        paper_encoding_3  paper_encoding_4  paper_encoding_5  \\\n",
       "index                                                          \n",
       "0               0.055969         -0.078003         -0.017807   \n",
       "1               0.535645          0.496582          0.024368   \n",
       "2               0.882324         -0.114685          0.607910   \n",
       "3              -0.156616         -0.396240         -0.449951   \n",
       "4               0.651855          0.279053          0.020828   \n",
       "...                  ...               ...               ...   \n",
       "138944          1.201172         -0.639160         -0.368164   \n",
       "138945          0.251953          0.003784          0.495361   \n",
       "138946          0.222412         -1.073242          0.049652   \n",
       "138947          0.391113         -0.368896         -0.091003   \n",
       "138948          0.073181         -0.243286         -0.610840   \n",
       "\n",
       "        paper_encoding_6  paper_encoding_7  paper_encoding_8  \\\n",
       "index                                                          \n",
       "0               0.553223         -0.319824          0.394043   \n",
       "1               0.239990          0.539551          0.460449   \n",
       "2               0.151001          0.124695         -0.012108   \n",
       "3              -0.033630          0.393066          0.552246   \n",
       "4               0.325439         -0.004528          0.264404   \n",
       "...                  ...               ...               ...   \n",
       "138944          0.802246         -0.076355          0.324219   \n",
       "138945          0.756348         -0.065125         -0.071777   \n",
       "138946          0.335205          0.281982          1.385742   \n",
       "138947          1.030273          0.415039          0.506836   \n",
       "138948          0.522461         -0.022171         -0.621094   \n",
       "\n",
       "        paper_encoding_9  ...  paper_encoding_761  paper_encoding_762  \\\n",
       "index                     ...                                           \n",
       "0               0.502930  ...           -0.052490            1.092773   \n",
       "1               0.078491  ...           -0.132812            1.125977   \n",
       "2              -0.005211  ...           -0.130127           -0.121155   \n",
       "3              -0.076782  ...            0.149780            1.133789   \n",
       "4               0.178101  ...            0.056824            0.499023   \n",
       "...                  ...  ...                 ...                 ...   \n",
       "138944          0.030365  ...            0.553223            0.697754   \n",
       "138945          0.123657  ...           -0.436279            1.187500   \n",
       "138946          0.360840  ...           -0.331787           -0.043549   \n",
       "138947          0.121399  ...           -0.198730            1.151367   \n",
       "138948          0.040161  ...           -0.159180            0.350342   \n",
       "\n",
       "        paper_encoding_763  paper_encoding_764  paper_encoding_765  \\\n",
       "index                                                                \n",
       "0                 0.157227           -1.467773           -1.590820   \n",
       "1                 0.368164           -0.191406           -0.378418   \n",
       "2                 0.790527           -0.147827           -0.451904   \n",
       "3                 0.386230            0.066162            0.760742   \n",
       "4                 0.038788            0.906250           -0.623047   \n",
       "...                    ...                 ...                 ...   \n",
       "138944            0.369629            1.799805           -0.534180   \n",
       "138945            0.360596           -1.391602           -0.752930   \n",
       "138946            0.609863            0.025223            0.232422   \n",
       "138947            0.054382           -0.266113           -0.600098   \n",
       "138948           -0.007122           -0.407715           -0.976562   \n",
       "\n",
       "        paper_encoding_766  paper_encoding_767  split_segment  paper_subject  \\\n",
       "index                                                                          \n",
       "0                 0.328613            0.332275          TRAIN           17.0   \n",
       "1                 0.031616           -0.311523          TRAIN           29.0   \n",
       "2                 0.516602           -0.135986          TRAIN           38.0   \n",
       "3                 0.355469           -0.658691          TRAIN            5.0   \n",
       "4                -0.119080            0.394043          TRAIN            1.0   \n",
       "...                    ...                 ...            ...            ...   \n",
       "138944           -0.112244           -0.230713       VALIDATE           51.0   \n",
       "138945           -0.068970            0.195923       VALIDATE           12.0   \n",
       "138946            0.211304            0.060333       VALIDATE           18.0   \n",
       "138947            0.258057            0.411377       VALIDATE           72.0   \n",
       "138948            0.545410            0.017975       VALIDATE          142.0   \n",
       "\n",
       "        paper_year  \n",
       "index               \n",
       "0             2014  \n",
       "1             2014  \n",
       "2             2015  \n",
       "3             2005  \n",
       "4             2013  \n",
       "...            ...  \n",
       "138944        2019  \n",
       "138945        2019  \n",
       "138946        2019  \n",
       "138947        2019  \n",
       "138948        2019  \n",
       "\n",
       "[1251341 rows x 771 columns]"
      ]
     },
     "execution_count": 3,
     "metadata": {},
     "output_type": "execute_result"
    }
   ],
   "source": [
    "papers_df = pd.read_parquet(ROOT_DATA_DIR + \"/ogb-labeled-papers.parquet\", engine='fastparquet')\n",
    "papers_df"
   ]
  },
  {
   "cell_type": "markdown",
   "id": "9fdbbff1",
   "metadata": {},
   "source": [
    "## Data Split and Subject Label Stats"
   ]
  },
  {
   "cell_type": "code",
   "execution_count": 4,
   "id": "c7b27e10",
   "metadata": {},
   "outputs": [
    {
     "data": {
      "text/html": [
       "<div>\n",
       "<style scoped>\n",
       "    .dataframe tbody tr th:only-of-type {\n",
       "        vertical-align: middle;\n",
       "    }\n",
       "\n",
       "    .dataframe tbody tr th {\n",
       "        vertical-align: top;\n",
       "    }\n",
       "\n",
       "    .dataframe thead th {\n",
       "        text-align: right;\n",
       "    }\n",
       "</style>\n",
       "<table border=\"1\" class=\"dataframe\">\n",
       "  <thead>\n",
       "    <tr style=\"text-align: right;\">\n",
       "      <th></th>\n",
       "      <th>paper_encoding_0</th>\n",
       "    </tr>\n",
       "    <tr>\n",
       "      <th>split_segment</th>\n",
       "      <th></th>\n",
       "    </tr>\n",
       "  </thead>\n",
       "  <tbody>\n",
       "    <tr>\n",
       "      <th>TRAIN</th>\n",
       "      <td>1112392</td>\n",
       "    </tr>\n",
       "    <tr>\n",
       "      <th>VALIDATE</th>\n",
       "      <td>138949</td>\n",
       "    </tr>\n",
       "  </tbody>\n",
       "</table>\n",
       "</div>"
      ],
      "text/plain": [
       "               paper_encoding_0\n",
       "split_segment                  \n",
       "TRAIN                   1112392\n",
       "VALIDATE                 138949"
      ]
     },
     "execution_count": 4,
     "metadata": {},
     "output_type": "execute_result"
    }
   ],
   "source": [
    "papers_df[['split_segment', 'paper_encoding_0']].groupby('split_segment').count()"
   ]
  },
  {
   "cell_type": "code",
   "execution_count": 5,
   "id": "3e94ffa3",
   "metadata": {},
   "outputs": [
    {
     "data": {
      "text/html": [
       "<div>\n",
       "<style scoped>\n",
       "    .dataframe tbody tr th:only-of-type {\n",
       "        vertical-align: middle;\n",
       "    }\n",
       "\n",
       "    .dataframe tbody tr th {\n",
       "        vertical-align: top;\n",
       "    }\n",
       "\n",
       "    .dataframe thead th {\n",
       "        text-align: right;\n",
       "    }\n",
       "</style>\n",
       "<table border=\"1\" class=\"dataframe\">\n",
       "  <thead>\n",
       "    <tr style=\"text-align: right;\">\n",
       "      <th></th>\n",
       "      <th>paper_encoding_0</th>\n",
       "    </tr>\n",
       "    <tr>\n",
       "      <th>paper_subject</th>\n",
       "      <th></th>\n",
       "    </tr>\n",
       "  </thead>\n",
       "  <tbody>\n",
       "    <tr>\n",
       "      <th>0.0</th>\n",
       "      <td>28041</td>\n",
       "    </tr>\n",
       "    <tr>\n",
       "      <th>1.0</th>\n",
       "      <td>2856</td>\n",
       "    </tr>\n",
       "    <tr>\n",
       "      <th>2.0</th>\n",
       "      <td>3907</td>\n",
       "    </tr>\n",
       "    <tr>\n",
       "      <th>3.0</th>\n",
       "      <td>1530</td>\n",
       "    </tr>\n",
       "    <tr>\n",
       "      <th>4.0</th>\n",
       "      <td>1910</td>\n",
       "    </tr>\n",
       "    <tr>\n",
       "      <th>...</th>\n",
       "      <td>...</td>\n",
       "    </tr>\n",
       "    <tr>\n",
       "      <th>148.0</th>\n",
       "      <td>865</td>\n",
       "    </tr>\n",
       "    <tr>\n",
       "      <th>149.0</th>\n",
       "      <td>815</td>\n",
       "    </tr>\n",
       "    <tr>\n",
       "      <th>150.0</th>\n",
       "      <td>837</td>\n",
       "    </tr>\n",
       "    <tr>\n",
       "      <th>151.0</th>\n",
       "      <td>22696</td>\n",
       "    </tr>\n",
       "    <tr>\n",
       "      <th>152.0</th>\n",
       "      <td>1139</td>\n",
       "    </tr>\n",
       "  </tbody>\n",
       "</table>\n",
       "<p>153 rows × 1 columns</p>\n",
       "</div>"
      ],
      "text/plain": [
       "               paper_encoding_0\n",
       "paper_subject                  \n",
       "0.0                       28041\n",
       "1.0                        2856\n",
       "2.0                        3907\n",
       "3.0                        1530\n",
       "4.0                        1910\n",
       "...                         ...\n",
       "148.0                       865\n",
       "149.0                       815\n",
       "150.0                       837\n",
       "151.0                     22696\n",
       "152.0                      1139\n",
       "\n",
       "[153 rows x 1 columns]"
      ]
     },
     "execution_count": 5,
     "metadata": {},
     "output_type": "execute_result"
    }
   ],
   "source": [
    "papers_df[['paper_subject', 'paper_encoding_0']].groupby('paper_subject').count()"
   ]
  },
  {
   "cell_type": "markdown",
   "id": "88beb827",
   "metadata": {},
   "source": [
    "## Logistic Regression Using Entire 768 Dimensional Encoding\n",
    "\n",
    "\n",
    "As a first pass we will try to fit this model with simple logistic regression using just the 768 dimensional RoBERTa encoding vectors as features. \n",
    "\n",
    "__Note: this model fitting step can take a while (several hours) to complete__\n",
    "\n",
    "We will get convergence warnings when running the below model model.  I tried various different parameters to try and avoid this in sklearn but could not seem to do so. In a more rigorous setting I would recommend looking deeper into tuning parameters, different model types, different machine learning libraries/frameworks, etc. But for purposes of this demo we are just trying to get an initial rough benchmark. In the following sections we will apply a very simple solution of dimensionality reduction with Principal Components Analysis (PCA) to see the effect on results. "
   ]
  },
  {
   "cell_type": "code",
   "execution_count": 6,
   "id": "aa8a82dc",
   "metadata": {},
   "outputs": [],
   "source": [
    "papers_df = papers_df.astype({'paper_subject':'int32'})"
   ]
  },
  {
   "cell_type": "code",
   "execution_count": 7,
   "id": "4863519d",
   "metadata": {},
   "outputs": [],
   "source": [
    "X = papers_df[['paper_encoding_' + str(x) for x in range(768)]]\n",
    "y = papers_df.paper_subject"
   ]
  },
  {
   "cell_type": "code",
   "execution_count": 8,
   "id": "486dfa78",
   "metadata": {},
   "outputs": [],
   "source": [
    "X_train = X[papers_df.split_segment == \"TRAIN\"]\n",
    "X_validate = X[papers_df.split_segment == \"VALIDATE\"]\n",
    "y_train = y[papers_df.split_segment == \"TRAIN\"]\n",
    "y_validate = y[papers_df.split_segment == \"VALIDATE\"]"
   ]
  },
  {
   "cell_type": "code",
   "execution_count": 9,
   "id": "e3d95251",
   "metadata": {},
   "outputs": [],
   "source": [
    "model = LogisticRegression(multi_class='ovr', solver='saga', n_jobs=60, max_iter=200)"
   ]
  },
  {
   "cell_type": "code",
   "execution_count": 10,
   "id": "91cba657",
   "metadata": {},
   "outputs": [
    {
     "name": "stderr",
     "output_type": "stream",
     "text": [
      "/home/ubuntu/.conda/envs/graph2/lib/python3.9/site-packages/sklearn/linear_model/_sag.py:352: ConvergenceWarning: The max_iter was reached which means the coef_ did not converge\n",
      "  warnings.warn(\n",
      "/home/ubuntu/.conda/envs/graph2/lib/python3.9/site-packages/sklearn/linear_model/_sag.py:352: ConvergenceWarning: The max_iter was reached which means the coef_ did not converge\n",
      "  warnings.warn(\n",
      "/home/ubuntu/.conda/envs/graph2/lib/python3.9/site-packages/sklearn/linear_model/_sag.py:352: ConvergenceWarning: The max_iter was reached which means the coef_ did not converge\n",
      "  warnings.warn(\n",
      "/home/ubuntu/.conda/envs/graph2/lib/python3.9/site-packages/sklearn/linear_model/_sag.py:352: ConvergenceWarning: The max_iter was reached which means the coef_ did not converge\n",
      "  warnings.warn(\n",
      "/home/ubuntu/.conda/envs/graph2/lib/python3.9/site-packages/sklearn/linear_model/_sag.py:352: ConvergenceWarning: The max_iter was reached which means the coef_ did not converge\n",
      "  warnings.warn(\n",
      "/home/ubuntu/.conda/envs/graph2/lib/python3.9/site-packages/sklearn/linear_model/_sag.py:352: ConvergenceWarning: The max_iter was reached which means the coef_ did not converge\n",
      "  warnings.warn(\n",
      "/home/ubuntu/.conda/envs/graph2/lib/python3.9/site-packages/sklearn/linear_model/_sag.py:352: ConvergenceWarning: The max_iter was reached which means the coef_ did not converge\n",
      "  warnings.warn(\n",
      "/home/ubuntu/.conda/envs/graph2/lib/python3.9/site-packages/sklearn/linear_model/_sag.py:352: ConvergenceWarning: The max_iter was reached which means the coef_ did not converge\n",
      "  warnings.warn(\n",
      "/home/ubuntu/.conda/envs/graph2/lib/python3.9/site-packages/sklearn/linear_model/_sag.py:352: ConvergenceWarning: The max_iter was reached which means the coef_ did not converge\n",
      "  warnings.warn(\n",
      "/home/ubuntu/.conda/envs/graph2/lib/python3.9/site-packages/sklearn/linear_model/_sag.py:352: ConvergenceWarning: The max_iter was reached which means the coef_ did not converge\n",
      "  warnings.warn(\n",
      "/home/ubuntu/.conda/envs/graph2/lib/python3.9/site-packages/sklearn/linear_model/_sag.py:352: ConvergenceWarning: The max_iter was reached which means the coef_ did not converge\n",
      "  warnings.warn(\n",
      "/home/ubuntu/.conda/envs/graph2/lib/python3.9/site-packages/sklearn/linear_model/_sag.py:352: ConvergenceWarning: The max_iter was reached which means the coef_ did not converge\n",
      "  warnings.warn(\n",
      "/home/ubuntu/.conda/envs/graph2/lib/python3.9/site-packages/sklearn/linear_model/_sag.py:352: ConvergenceWarning: The max_iter was reached which means the coef_ did not converge\n",
      "  warnings.warn(\n",
      "/home/ubuntu/.conda/envs/graph2/lib/python3.9/site-packages/sklearn/linear_model/_sag.py:352: ConvergenceWarning: The max_iter was reached which means the coef_ did not converge\n",
      "  warnings.warn(\n",
      "/home/ubuntu/.conda/envs/graph2/lib/python3.9/site-packages/sklearn/linear_model/_sag.py:352: ConvergenceWarning: The max_iter was reached which means the coef_ did not converge\n",
      "  warnings.warn(\n",
      "/home/ubuntu/.conda/envs/graph2/lib/python3.9/site-packages/sklearn/linear_model/_sag.py:352: ConvergenceWarning: The max_iter was reached which means the coef_ did not converge\n",
      "  warnings.warn(\n",
      "/home/ubuntu/.conda/envs/graph2/lib/python3.9/site-packages/sklearn/linear_model/_sag.py:352: ConvergenceWarning: The max_iter was reached which means the coef_ did not converge\n",
      "  warnings.warn(\n",
      "/home/ubuntu/.conda/envs/graph2/lib/python3.9/site-packages/sklearn/linear_model/_sag.py:352: ConvergenceWarning: The max_iter was reached which means the coef_ did not converge\n",
      "  warnings.warn(\n",
      "/home/ubuntu/.conda/envs/graph2/lib/python3.9/site-packages/sklearn/linear_model/_sag.py:352: ConvergenceWarning: The max_iter was reached which means the coef_ did not converge\n",
      "  warnings.warn(\n",
      "/home/ubuntu/.conda/envs/graph2/lib/python3.9/site-packages/sklearn/linear_model/_sag.py:352: ConvergenceWarning: The max_iter was reached which means the coef_ did not converge\n",
      "  warnings.warn(\n",
      "/home/ubuntu/.conda/envs/graph2/lib/python3.9/site-packages/sklearn/linear_model/_sag.py:352: ConvergenceWarning: The max_iter was reached which means the coef_ did not converge\n",
      "  warnings.warn(\n",
      "/home/ubuntu/.conda/envs/graph2/lib/python3.9/site-packages/sklearn/linear_model/_sag.py:352: ConvergenceWarning: The max_iter was reached which means the coef_ did not converge\n",
      "  warnings.warn(\n",
      "/home/ubuntu/.conda/envs/graph2/lib/python3.9/site-packages/sklearn/linear_model/_sag.py:352: ConvergenceWarning: The max_iter was reached which means the coef_ did not converge\n",
      "  warnings.warn(\n",
      "/home/ubuntu/.conda/envs/graph2/lib/python3.9/site-packages/sklearn/linear_model/_sag.py:352: ConvergenceWarning: The max_iter was reached which means the coef_ did not converge\n",
      "  warnings.warn(\n",
      "/home/ubuntu/.conda/envs/graph2/lib/python3.9/site-packages/sklearn/linear_model/_sag.py:352: ConvergenceWarning: The max_iter was reached which means the coef_ did not converge\n",
      "  warnings.warn(\n",
      "/home/ubuntu/.conda/envs/graph2/lib/python3.9/site-packages/sklearn/linear_model/_sag.py:352: ConvergenceWarning: The max_iter was reached which means the coef_ did not converge\n",
      "  warnings.warn(\n",
      "/home/ubuntu/.conda/envs/graph2/lib/python3.9/site-packages/sklearn/linear_model/_sag.py:352: ConvergenceWarning: The max_iter was reached which means the coef_ did not converge\n",
      "  warnings.warn(\n",
      "/home/ubuntu/.conda/envs/graph2/lib/python3.9/site-packages/sklearn/linear_model/_sag.py:352: ConvergenceWarning: The max_iter was reached which means the coef_ did not converge\n",
      "  warnings.warn(\n",
      "/home/ubuntu/.conda/envs/graph2/lib/python3.9/site-packages/sklearn/linear_model/_sag.py:352: ConvergenceWarning: The max_iter was reached which means the coef_ did not converge\n",
      "  warnings.warn(\n",
      "/home/ubuntu/.conda/envs/graph2/lib/python3.9/site-packages/sklearn/linear_model/_sag.py:352: ConvergenceWarning: The max_iter was reached which means the coef_ did not converge\n",
      "  warnings.warn(\n",
      "/home/ubuntu/.conda/envs/graph2/lib/python3.9/site-packages/sklearn/linear_model/_sag.py:352: ConvergenceWarning: The max_iter was reached which means the coef_ did not converge\n",
      "  warnings.warn(\n",
      "/home/ubuntu/.conda/envs/graph2/lib/python3.9/site-packages/sklearn/linear_model/_sag.py:352: ConvergenceWarning: The max_iter was reached which means the coef_ did not converge\n",
      "  warnings.warn(\n",
      "/home/ubuntu/.conda/envs/graph2/lib/python3.9/site-packages/sklearn/linear_model/_sag.py:352: ConvergenceWarning: The max_iter was reached which means the coef_ did not converge\n",
      "  warnings.warn(\n",
      "/home/ubuntu/.conda/envs/graph2/lib/python3.9/site-packages/sklearn/linear_model/_sag.py:352: ConvergenceWarning: The max_iter was reached which means the coef_ did not converge\n",
      "  warnings.warn(\n",
      "/home/ubuntu/.conda/envs/graph2/lib/python3.9/site-packages/sklearn/linear_model/_sag.py:352: ConvergenceWarning: The max_iter was reached which means the coef_ did not converge\n",
      "  warnings.warn(\n"
     ]
    },
    {
     "data": {
      "text/plain": [
       "LogisticRegression(max_iter=200, multi_class='ovr', n_jobs=60, solver='saga')"
      ]
     },
     "execution_count": 10,
     "metadata": {},
     "output_type": "execute_result"
    }
   ],
   "source": [
    "#Note: This can take a while (several hours)\n",
    "model.fit(X_train, y_train)"
   ]
  },
  {
   "cell_type": "code",
   "execution_count": 11,
   "id": "a826e1b8",
   "metadata": {},
   "outputs": [
    {
     "name": "stdout",
     "output_type": "stream",
     "text": [
      "Accuracy of logistic regression classifier on VALIDATE set: 0.49\n"
     ]
    }
   ],
   "source": [
    "print('Accuracy of logistic regression classifier on VALIDATE set: {:.2f}'\\\n",
    "      .format(model.score(X_validate, y_validate)))"
   ]
  },
  {
   "cell_type": "markdown",
   "id": "67621ceb",
   "metadata": {},
   "source": [
    "## Reducing Dimensionality with Principal Components Analysis (PCA)"
   ]
  },
  {
   "cell_type": "code",
   "execution_count": 12,
   "id": "1cea5185",
   "metadata": {},
   "outputs": [
    {
     "data": {
      "text/plain": [
       "PCA()"
      ]
     },
     "execution_count": 12,
     "metadata": {},
     "output_type": "execute_result"
    }
   ],
   "source": [
    "from sklearn.decomposition import PCA\n",
    "pca = PCA()\n",
    "pca.fit(X_train)"
   ]
  },
  {
   "cell_type": "code",
   "execution_count": 13,
   "id": "0bcbf2b2",
   "metadata": {},
   "outputs": [
    {
     "data": {
      "image/png": "[encoded data removed]",
      "text/plain": [
       "<Figure size 432x288 with 1 Axes>"
      ]
     },
     "metadata": {
      "needs_background": "light"
     },
     "output_type": "display_data"
    }
   ],
   "source": [
    "import numpy as np\n",
    "import matplotlib\n",
    "import matplotlib.pyplot as plt\n",
    "\n",
    "PC_values = np.arange(pca.n_components_) + 1\n",
    "plt.plot(PC_values, pca.explained_variance_ratio_, 'ro-', linewidth=2)\n",
    "plt.title('Scree Plot')\n",
    "plt.xlabel('Principal Component')\n",
    "plt.ylabel('Proportion of Variance Explained')\n",
    "plt.show()"
   ]
  },
  {
   "cell_type": "markdown",
   "id": "51fb6a41",
   "metadata": {},
   "source": [
    "Note that almost 93% of the variance is explained by the first 128 principal components"
   ]
  },
  {
   "cell_type": "code",
   "execution_count": 14,
   "id": "c7005d80",
   "metadata": {},
   "outputs": [
    {
     "data": {
      "text/plain": [
       "0.9270989465518304"
      ]
     },
     "execution_count": 14,
     "metadata": {},
     "output_type": "execute_result"
    }
   ],
   "source": [
    "sum(pca.explained_variance_ratio_[:128])"
   ]
  },
  {
   "cell_type": "markdown",
   "id": "5ade6a55",
   "metadata": {},
   "source": [
    "## Logistic Regression with 128 Principal Components"
   ]
  },
  {
   "cell_type": "code",
   "execution_count": 15,
   "id": "09d55936",
   "metadata": {},
   "outputs": [
    {
     "data": {
      "text/plain": [
       "array([[-6.19892061e-01,  7.57744837e+00,  2.38994151e-01, ...,\n",
       "         1.45125136e-01,  4.76339161e-01, -3.43906790e-01],\n",
       "       [ 1.02952302e+00,  4.56361294e+00,  1.81073594e+00, ...,\n",
       "        -3.10825527e-01, -1.21716559e-01, -1.96754932e-03],\n",
       "       [ 1.57442674e-01,  4.48937798e+00, -2.28051734e+00, ...,\n",
       "         1.97405860e-01,  4.04985249e-01, -6.72422767e-01],\n",
       "       ...,\n",
       "       [-7.67455101e+00, -1.38447428e+00,  3.48542595e+00, ...,\n",
       "        -1.10648334e-01, -3.42456937e-01, -4.07753110e-01],\n",
       "       [-7.29859233e-01, -1.26016960e-02,  1.33440959e+00, ...,\n",
       "        -3.93246353e-01, -2.03127354e-01, -8.12449753e-02],\n",
       "       [ 2.64888406e+00,  2.00736737e+00, -2.70441365e+00, ...,\n",
       "         1.83935657e-01, -3.53981048e-01, -3.53198677e-01]], dtype=float32)"
      ]
     },
     "execution_count": 15,
     "metadata": {},
     "output_type": "execute_result"
    }
   ],
   "source": [
    "pca128 = PCA(n_components=128)\n",
    "pca128.fit(X_train)\n",
    "X_train_reduced = pca128.transform(X_train)\n",
    "X_train_reduced"
   ]
  },
  {
   "cell_type": "code",
   "execution_count": 16,
   "id": "25a7041b",
   "metadata": {},
   "outputs": [],
   "source": [
    "model_128 = LogisticRegression(multi_class='ovr', solver='saga', n_jobs=60)"
   ]
  },
  {
   "cell_type": "code",
   "execution_count": 17,
   "id": "6ffa7a40",
   "metadata": {},
   "outputs": [
    {
     "data": {
      "text/plain": [
       "LogisticRegression(multi_class='ovr', n_jobs=60, solver='saga')"
      ]
     },
     "execution_count": 17,
     "metadata": {},
     "output_type": "execute_result"
    }
   ],
   "source": [
    "model_128.fit(X_train_reduced, y_train)"
   ]
  },
  {
   "cell_type": "code",
   "execution_count": 18,
   "id": "6e3734fe",
   "metadata": {},
   "outputs": [],
   "source": [
    "X_validate_reduced = pca128.transform(X_validate)"
   ]
  },
  {
   "cell_type": "code",
   "execution_count": 21,
   "id": "a6617d85",
   "metadata": {},
   "outputs": [
    {
     "name": "stdout",
     "output_type": "stream",
     "text": [
      "Accuracy of logistic regression classifier on VALIDATE set: 0.43\n"
     ]
    }
   ],
   "source": [
    "print('Accuracy of logistic regression classifier on VALIDATE set: {:.2f}'\\\n",
    "      .format(model_128.score(X_validate_reduced, y_validate)))"
   ]
  },
  {
   "cell_type": "markdown",
   "id": "11b2ca0d",
   "metadata": {},
   "source": [
    "__Accuracy seems to go down, though we seem to have avoided convergence warnings__"
   ]
  },
  {
   "cell_type": "markdown",
   "id": "c406d1e1",
   "metadata": {},
   "source": [
    "### Save PCA Object\n",
    "We will use this in part 3 for Neo4j import."
   ]
  },
  {
   "cell_type": "code",
   "execution_count": 22,
   "id": "346f767c",
   "metadata": {},
   "outputs": [
    {
     "data": {
      "text/plain": [
       "['/data/paper-feat-pca128.joblib']"
      ]
     },
     "execution_count": 22,
     "metadata": {},
     "output_type": "execute_result"
    }
   ],
   "source": [
    "from joblib import dump\n",
    "dump(pca128, ROOT_DATA_DIR + '/paper-feat-pca128.joblib')"
   ]
  },
  {
   "cell_type": "markdown",
   "id": "bcb06747",
   "metadata": {},
   "source": [
    "## (Optional) Checking with 384 Principal Components\n",
    "Just for sake of experimentation, let's up the dimensionality to 384 (50% the size of the original vector size) and see what we get. "
   ]
  },
  {
   "cell_type": "code",
   "execution_count": 23,
   "id": "8209bcf2",
   "metadata": {},
   "outputs": [
    {
     "data": {
      "text/plain": [
       "0.9850090609327055"
      ]
     },
     "execution_count": 23,
     "metadata": {},
     "output_type": "execute_result"
    }
   ],
   "source": [
    "sum(pca.explained_variance_ratio_[:384])"
   ]
  },
  {
   "cell_type": "code",
   "execution_count": 24,
   "id": "3e67dcb3",
   "metadata": {},
   "outputs": [
    {
     "data": {
      "text/plain": [
       "array([[-6.19884431e-01,  7.57744980e+00,  2.38999844e-01, ...,\n",
       "        -2.00414509e-02,  1.23605132e-02,  5.13292551e-02],\n",
       "       [ 1.02952719e+00,  4.56361008e+00,  1.81073332e+00, ...,\n",
       "        -1.46002211e-02,  1.11485720e-02, -6.50432706e-03],\n",
       "       [ 1.57447502e-01,  4.48937893e+00, -2.28051710e+00, ...,\n",
       "        -1.08808234e-01,  5.55179715e-02,  1.12585865e-01],\n",
       "       ...,\n",
       "       [-7.67455006e+00, -1.38446569e+00,  3.48541903e+00, ...,\n",
       "         7.78694451e-02,  4.36903536e-02, -1.50039345e-01],\n",
       "       [-7.29859591e-01, -1.26056150e-02,  1.33440888e+00, ...,\n",
       "        -1.61436945e-02, -1.19892642e-01, -2.25727051e-01],\n",
       "       [ 2.64888358e+00,  2.00736547e+00, -2.70441127e+00, ...,\n",
       "        -6.14562258e-02,  7.74844512e-02, -3.82103026e-05]], dtype=float32)"
      ]
     },
     "execution_count": 24,
     "metadata": {},
     "output_type": "execute_result"
    }
   ],
   "source": [
    "pca384 = PCA(n_components=384)\n",
    "pca384.fit(X_train)\n",
    "X_train_reduced_384 = pca384.transform(X_train)\n",
    "X_train_reduced_384"
   ]
  },
  {
   "cell_type": "code",
   "execution_count": 25,
   "id": "1489fee5",
   "metadata": {},
   "outputs": [],
   "source": [
    "model_384 = LogisticRegression(multi_class='ovr', solver='saga', n_jobs=60)"
   ]
  },
  {
   "cell_type": "code",
   "execution_count": 26,
   "id": "67c70089",
   "metadata": {},
   "outputs": [
    {
     "data": {
      "text/plain": [
       "LogisticRegression(multi_class='ovr', n_jobs=60, solver='saga')"
      ]
     },
     "execution_count": 26,
     "metadata": {},
     "output_type": "execute_result"
    }
   ],
   "source": [
    "model_384.fit(X_train_reduced_384, y_train)"
   ]
  },
  {
   "cell_type": "code",
   "execution_count": 27,
   "id": "177b2e14",
   "metadata": {},
   "outputs": [],
   "source": [
    "X_validate_reduced_384 = pca384.transform(X_validate)"
   ]
  },
  {
   "cell_type": "code",
   "execution_count": 29,
   "id": "c58f21af",
   "metadata": {},
   "outputs": [
    {
     "name": "stdout",
     "output_type": "stream",
     "text": [
      "Accuracy of logistic regression classifier on VALIDATE set: 0.47\n"
     ]
    }
   ],
   "source": [
    "print('Accuracy of logistic regression classifier on VALIDATE set: {:.2f}'\\\n",
    "      .format(model_384.score(X_validate_reduced_384, y_validate)))"
   ]
  },
  {
   "cell_type": "markdown",
   "id": "3ef1bbe8",
   "metadata": {},
   "source": [
    "__Very close to the original accuracy but still lower__"
   ]
  },
  {
   "cell_type": "code",
   "execution_count": null,
   "id": "f46c7c7a",
   "metadata": {},
   "outputs": [],
   "source": []
  }
 ],
 "metadata": {
  "kernelspec": {
   "display_name": "Python 3 (ipykernel)",
   "language": "python",
   "name": "python3"
  },
  "language_info": {
   "codemirror_mode": {
    "name": "ipython",
    "version": 3
   },
   "file_extension": ".py",
   "mimetype": "text/x-python",
   "name": "python",
   "nbconvert_exporter": "python",
   "pygments_lexer": "ipython3",
   "version": "3.9.7"
  }
 },
 "nbformat": 4,
 "nbformat_minor": 5
}
